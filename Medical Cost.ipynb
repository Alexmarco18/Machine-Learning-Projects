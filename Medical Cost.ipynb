{
 "cells": [
  {
   "cell_type": "markdown",
   "id": "39a4e6f3-1572-4ba5-b13c-171dec9b3783",
   "metadata": {},
   "source": [
    "# Content\n",
    "- Importing Libraries\n",
    "- Reading Data\n",
    "- Understanding  Data\n",
    "- Visualization of Data\n",
    "- Data Preprocessing\n",
    "- Training and Spliting Data\n",
    "- Evaluations Metrics\n",
    "- Standardize Data Points\n",
    "- HYPERPARAMETER\n",
    "- Model Evaluation\n",
    "- Conclusion "
   ]
  },
  {
   "cell_type": "code",
   "execution_count": 66,
   "id": "f6e514cb-1dbf-4428-9c18-d45390aeb479",
   "metadata": {},
   "outputs": [],
   "source": [
    "import numpy as np\n",
    "import pandas as pd\n",
    "import seaborn as sns\n",
    "import matplotlib.pyplot as plt\n",
    "from sklearn.model_selection import train_test_split\n",
    "from sklearn import metrics\n",
    "from sklearn.preprocessing import StandardScaler\n",
    "from sklearn.preprocessing import OneHotEncoder"
   ]
  },
  {
   "cell_type": "code",
   "execution_count": 67,
   "id": "24333696-e8d0-4194-9589-ecce0140486e",
   "metadata": {},
   "outputs": [],
   "source": [
    "df = pd.read_csv('insurance_dataset.csv')"
   ]
  },
  {
   "cell_type": "code",
   "execution_count": 68,
   "id": "a5b9c138-b044-4bdf-a732-872a3e6d252a",
   "metadata": {},
   "outputs": [
    {
     "data": {
      "text/html": [
       "<div>\n",
       "<style scoped>\n",
       "    .dataframe tbody tr th:only-of-type {\n",
       "        vertical-align: middle;\n",
       "    }\n",
       "\n",
       "    .dataframe tbody tr th {\n",
       "        vertical-align: top;\n",
       "    }\n",
       "\n",
       "    .dataframe thead th {\n",
       "        text-align: right;\n",
       "    }\n",
       "</style>\n",
       "<table border=\"1\" class=\"dataframe\">\n",
       "  <thead>\n",
       "    <tr style=\"text-align: right;\">\n",
       "      <th></th>\n",
       "      <th>age</th>\n",
       "      <th>sex</th>\n",
       "      <th>bmi</th>\n",
       "      <th>children</th>\n",
       "      <th>smoker</th>\n",
       "      <th>region</th>\n",
       "      <th>charges</th>\n",
       "    </tr>\n",
       "  </thead>\n",
       "  <tbody>\n",
       "    <tr>\n",
       "      <th>0</th>\n",
       "      <td>19</td>\n",
       "      <td>female</td>\n",
       "      <td>27.900</td>\n",
       "      <td>0</td>\n",
       "      <td>yes</td>\n",
       "      <td>southwest</td>\n",
       "      <td>16884.92400</td>\n",
       "    </tr>\n",
       "    <tr>\n",
       "      <th>1</th>\n",
       "      <td>18</td>\n",
       "      <td>male</td>\n",
       "      <td>33.770</td>\n",
       "      <td>1</td>\n",
       "      <td>no</td>\n",
       "      <td>southeast</td>\n",
       "      <td>1725.55230</td>\n",
       "    </tr>\n",
       "    <tr>\n",
       "      <th>2</th>\n",
       "      <td>28</td>\n",
       "      <td>male</td>\n",
       "      <td>33.000</td>\n",
       "      <td>3</td>\n",
       "      <td>no</td>\n",
       "      <td>southeast</td>\n",
       "      <td>4449.46200</td>\n",
       "    </tr>\n",
       "    <tr>\n",
       "      <th>3</th>\n",
       "      <td>33</td>\n",
       "      <td>male</td>\n",
       "      <td>22.705</td>\n",
       "      <td>0</td>\n",
       "      <td>no</td>\n",
       "      <td>northwest</td>\n",
       "      <td>21984.47061</td>\n",
       "    </tr>\n",
       "    <tr>\n",
       "      <th>4</th>\n",
       "      <td>32</td>\n",
       "      <td>male</td>\n",
       "      <td>28.880</td>\n",
       "      <td>0</td>\n",
       "      <td>no</td>\n",
       "      <td>northwest</td>\n",
       "      <td>3866.85520</td>\n",
       "    </tr>\n",
       "  </tbody>\n",
       "</table>\n",
       "</div>"
      ],
      "text/plain": [
       "   age     sex     bmi  children smoker     region      charges\n",
       "0   19  female  27.900         0    yes  southwest  16884.92400\n",
       "1   18    male  33.770         1     no  southeast   1725.55230\n",
       "2   28    male  33.000         3     no  southeast   4449.46200\n",
       "3   33    male  22.705         0     no  northwest  21984.47061\n",
       "4   32    male  28.880         0     no  northwest   3866.85520"
      ]
     },
     "execution_count": 68,
     "metadata": {},
     "output_type": "execute_result"
    }
   ],
   "source": [
    "df.head()"
   ]
  },
  {
   "cell_type": "markdown",
   "id": "bc072829-dfb0-423d-b009-b411fd8931d9",
   "metadata": {},
   "source": [
    "# UNDERSTANDING OUR DATA"
   ]
  },
  {
   "cell_type": "code",
   "execution_count": 15,
   "id": "d8658fa2-8d04-4904-a16c-2fcf1b36cfe4",
   "metadata": {},
   "outputs": [
    {
     "name": "stdout",
     "output_type": "stream",
     "text": [
      "<class 'pandas.core.frame.DataFrame'>\n",
      "RangeIndex: 1338 entries, 0 to 1337\n",
      "Data columns (total 7 columns):\n",
      " #   Column    Non-Null Count  Dtype  \n",
      "---  ------    --------------  -----  \n",
      " 0   age       1338 non-null   int64  \n",
      " 1   sex       1338 non-null   object \n",
      " 2   bmi       1338 non-null   float64\n",
      " 3   children  1338 non-null   int64  \n",
      " 4   smoker    1338 non-null   object \n",
      " 5   region    1338 non-null   object \n",
      " 6   charges   1338 non-null   float64\n",
      "dtypes: float64(2), int64(2), object(3)\n",
      "memory usage: 73.3+ KB\n"
     ]
    }
   ],
   "source": [
    "df.info()"
   ]
  },
  {
   "cell_type": "code",
   "execution_count": 16,
   "id": "46b4f23a-50c9-44b9-b481-816fafcfe053",
   "metadata": {},
   "outputs": [
    {
     "data": {
      "text/html": [
       "<div>\n",
       "<style scoped>\n",
       "    .dataframe tbody tr th:only-of-type {\n",
       "        vertical-align: middle;\n",
       "    }\n",
       "\n",
       "    .dataframe tbody tr th {\n",
       "        vertical-align: top;\n",
       "    }\n",
       "\n",
       "    .dataframe thead th {\n",
       "        text-align: right;\n",
       "    }\n",
       "</style>\n",
       "<table border=\"1\" class=\"dataframe\">\n",
       "  <thead>\n",
       "    <tr style=\"text-align: right;\">\n",
       "      <th></th>\n",
       "      <th>age</th>\n",
       "      <th>bmi</th>\n",
       "      <th>children</th>\n",
       "      <th>charges</th>\n",
       "    </tr>\n",
       "  </thead>\n",
       "  <tbody>\n",
       "    <tr>\n",
       "      <th>count</th>\n",
       "      <td>1338.000000</td>\n",
       "      <td>1338.000000</td>\n",
       "      <td>1338.000000</td>\n",
       "      <td>1338.000000</td>\n",
       "    </tr>\n",
       "    <tr>\n",
       "      <th>mean</th>\n",
       "      <td>39.207025</td>\n",
       "      <td>30.663397</td>\n",
       "      <td>1.094918</td>\n",
       "      <td>13270.422265</td>\n",
       "    </tr>\n",
       "    <tr>\n",
       "      <th>std</th>\n",
       "      <td>14.049960</td>\n",
       "      <td>6.098187</td>\n",
       "      <td>1.205493</td>\n",
       "      <td>12110.011237</td>\n",
       "    </tr>\n",
       "    <tr>\n",
       "      <th>min</th>\n",
       "      <td>18.000000</td>\n",
       "      <td>15.960000</td>\n",
       "      <td>0.000000</td>\n",
       "      <td>1121.873900</td>\n",
       "    </tr>\n",
       "    <tr>\n",
       "      <th>25%</th>\n",
       "      <td>27.000000</td>\n",
       "      <td>26.296250</td>\n",
       "      <td>0.000000</td>\n",
       "      <td>4740.287150</td>\n",
       "    </tr>\n",
       "    <tr>\n",
       "      <th>50%</th>\n",
       "      <td>39.000000</td>\n",
       "      <td>30.400000</td>\n",
       "      <td>1.000000</td>\n",
       "      <td>9382.033000</td>\n",
       "    </tr>\n",
       "    <tr>\n",
       "      <th>75%</th>\n",
       "      <td>51.000000</td>\n",
       "      <td>34.693750</td>\n",
       "      <td>2.000000</td>\n",
       "      <td>16639.912515</td>\n",
       "    </tr>\n",
       "    <tr>\n",
       "      <th>max</th>\n",
       "      <td>64.000000</td>\n",
       "      <td>53.130000</td>\n",
       "      <td>5.000000</td>\n",
       "      <td>63770.428010</td>\n",
       "    </tr>\n",
       "  </tbody>\n",
       "</table>\n",
       "</div>"
      ],
      "text/plain": [
       "               age          bmi     children       charges\n",
       "count  1338.000000  1338.000000  1338.000000   1338.000000\n",
       "mean     39.207025    30.663397     1.094918  13270.422265\n",
       "std      14.049960     6.098187     1.205493  12110.011237\n",
       "min      18.000000    15.960000     0.000000   1121.873900\n",
       "25%      27.000000    26.296250     0.000000   4740.287150\n",
       "50%      39.000000    30.400000     1.000000   9382.033000\n",
       "75%      51.000000    34.693750     2.000000  16639.912515\n",
       "max      64.000000    53.130000     5.000000  63770.428010"
      ]
     },
     "execution_count": 16,
     "metadata": {},
     "output_type": "execute_result"
    }
   ],
   "source": [
    "df.describe()"
   ]
  },
  {
   "cell_type": "code",
   "execution_count": 17,
   "id": "409ced94-465c-4681-bb11-bcb64e057994",
   "metadata": {},
   "outputs": [
    {
     "data": {
      "text/plain": [
       "age         0\n",
       "sex         0\n",
       "bmi         0\n",
       "children    0\n",
       "smoker      0\n",
       "region      0\n",
       "charges     0\n",
       "dtype: int64"
      ]
     },
     "execution_count": 17,
     "metadata": {},
     "output_type": "execute_result"
    }
   ],
   "source": [
    "df.isnull().sum()"
   ]
  },
  {
   "cell_type": "markdown",
   "id": "d0fb0158-4f43-4f05-9997-21bf1c20de01",
   "metadata": {},
   "source": [
    "# We Visualize our data for a better understanding"
   ]
  },
  {
   "cell_type": "code",
   "execution_count": 18,
   "id": "301edaac-cfc4-48ae-b425-a7771987f5ee",
   "metadata": {},
   "outputs": [
    {
     "data": {
      "text/plain": [
       "<Figure size 500x500 with 0 Axes>"
      ]
     },
     "metadata": {},
     "output_type": "display_data"
    },
    {
     "data": {
      "image/png": "[encoded data removed]",
      "text/plain": [
       "<Figure size 500x500 with 1 Axes>"
      ]
     },
     "metadata": {},
     "output_type": "display_data"
    }
   ],
   "source": [
    "plt.figure(figsize=(5,5))\n",
    "sns.displot(df['age'])\n",
    "plt.title('Age Distribution Graph')\n",
    "plt.show()"
   ]
  },
  {
   "cell_type": "code",
   "execution_count": 19,
   "id": "fa7ad281-3d0d-481f-b4ed-3eb8d74b46ca",
   "metadata": {},
   "outputs": [
    {
     "data": {
      "text/plain": [
       "<function matplotlib.pyplot.show(close=None, block=None)>"
      ]
     },
     "execution_count": 19,
     "metadata": {},
     "output_type": "execute_result"
    },
    {
     "data": {
      "image/png": "[encoded data removed]",
      "text/plain": [
       "<Figure size 500x500 with 1 Axes>"
      ]
     },
     "metadata": {},
     "output_type": "display_data"
    }
   ],
   "source": [
    "plt.figure(figsize=(5,5))\n",
    "sns.countplot(data = df, x='sex')\n",
    "plt.title('Sex Distribution Graph')\n",
    "plt.show   "
   ]
  },
  {
   "cell_type": "code",
   "execution_count": 20,
   "id": "4e0e7000-1f83-4200-ac68-cbb784b0ea4b",
   "metadata": {},
   "outputs": [
    {
     "data": {
      "text/plain": [
       "<function matplotlib.pyplot.show(close=None, block=None)>"
      ]
     },
     "execution_count": 20,
     "metadata": {},
     "output_type": "execute_result"
    },
    {
     "data": {
      "text/plain": [
       "<Figure size 500x500 with 0 Axes>"
      ]
     },
     "metadata": {},
     "output_type": "display_data"
    },
    {
     "data": {
      "image/png": "[encoded data removed]",
      "text/plain": [
       "<Figure size 500x500 with 1 Axes>"
      ]
     },
     "metadata": {},
     "output_type": "display_data"
    }
   ],
   "source": [
    "plt.figure(figsize=(5,5))\n",
    "sns.displot(df['bmi'])\n",
    "plt.title('BMI Distribution Graph')\n",
    "plt.show  "
   ]
  },
  {
   "cell_type": "markdown",
   "id": "b49046aa-2021-4649-a129-073b0e54929d",
   "metadata": {},
   "source": [
    "BMI is a useful tool for assessing weight status and potential health risk:\n",
    "Categories of BMI:\n",
    "Below 18.5===> Underweight\n",
    "Range 18.5 - 24.5===> Normal Weight\n",
    "Beyond 24.5 - 29.9===> Overweight\n",
    "Beyond 29.9-30==> Obese"
   ]
  },
  {
   "cell_type": "code",
   "execution_count": 21,
   "id": "935bc88d-42fa-4e71-a22a-d14ed1759937",
   "metadata": {},
   "outputs": [
    {
     "data": {
      "text/plain": [
       "<Figure size 500x500 with 0 Axes>"
      ]
     },
     "metadata": {},
     "output_type": "display_data"
    },
    {
     "data": {
      "image/png": "[encoded data removed]",
      "text/plain": [
       "<Figure size 500x500 with 1 Axes>"
      ]
     },
     "metadata": {},
     "output_type": "display_data"
    }
   ],
   "source": [
    "plt.figure(figsize=(5,5))\n",
    "sns.displot(df['children'])\n",
    "plt.title(\"Children Distribution\")\n",
    "plt.show()"
   ]
  },
  {
   "cell_type": "code",
   "execution_count": 22,
   "id": "2a7935b1-db87-4960-a1b8-b818e8b788f4",
   "metadata": {},
   "outputs": [
    {
     "data": {
      "text/plain": [
       "<function matplotlib.pyplot.show(close=None, block=None)>"
      ]
     },
     "execution_count": 22,
     "metadata": {},
     "output_type": "execute_result"
    },
    {
     "data": {
      "image/png": "[encoded data removed]",
      "text/plain": [
       "<Figure size 500x500 with 1 Axes>"
      ]
     },
     "metadata": {},
     "output_type": "display_data"
    }
   ],
   "source": [
    "plt.figure(figsize=(5,5))\n",
    "sns.countplot(x='smoker', data=df)\n",
    "plt.title('Smokers Graph')\n",
    "plt.show   "
   ]
  },
  {
   "cell_type": "code",
   "execution_count": 23,
   "id": "a20bd2e2-3d60-4384-a071-e6f1feca2702",
   "metadata": {},
   "outputs": [
    {
     "data": {
      "image/png": "[encoded data removed]",
      "text/plain": [
       "<Figure size 500x500 with 1 Axes>"
      ]
     },
     "metadata": {},
     "output_type": "display_data"
    }
   ],
   "source": [
    "plt.figure(figsize=(5,5))\n",
    "sns.countplot(x='region', data=df)\n",
    "plt.title(\"Regional Area  Graph\")\n",
    "plt.show()"
   ]
  },
  {
   "cell_type": "code",
   "execution_count": 24,
   "id": "4574fae7-f4e2-43af-8e8d-3076c58c5870",
   "metadata": {},
   "outputs": [
    {
     "data": {
      "text/plain": [
       "<Figure size 500x500 with 0 Axes>"
      ]
     },
     "metadata": {},
     "output_type": "display_data"
    },
    {
     "data": {
      "image/png": "[encoded data removed]",
      "text/plain": [
       "<Figure size 500x500 with 1 Axes>"
      ]
     },
     "metadata": {},
     "output_type": "display_data"
    }
   ],
   "source": [
    "plt.figure(figsize=(5,5))\n",
    "sns.displot(data=df, x='charges')\n",
    "plt.title(\"Distributions of Charges\")\n",
    "plt.show()"
   ]
  },
  {
   "cell_type": "markdown",
   "id": "cee9741d-1a42-4bb4-94db-34788b796594",
   "metadata": {},
   "source": []
  },
  {
   "cell_type": "markdown",
   "id": "c59a53bf-0be7-41a5-bb7e-d1aaf37863f7",
   "metadata": {},
   "source": [
    "# Data Processing"
   ]
  },
  {
   "cell_type": "markdown",
   "id": "52838de3-c3d8-4020-b826-7e63dfe1770d",
   "metadata": {},
   "source": [
    "We Encode Our Categorical Value by Using OneHotEncoder <br>\n",
    "This is turning our categorical columns like \"sex\", \"smoker\" \"Region\" to a numerical column for our model to understand"
   ]
  },
  {
   "cell_type": "code",
   "execution_count": 31,
   "id": "061c2b12-dd36-4e03-8530-ed2a0843156e",
   "metadata": {},
   "outputs": [],
   "source": [
    "ohe =  OneHotEncoder(handle_unknown='ignore', sparse_output = False).set_output(transform='pandas')"
   ]
  },
  {
   "cell_type": "code",
   "execution_count": 32,
   "id": "ebc06bf1-9ede-4294-9e31-21a958f0588a",
   "metadata": {},
   "outputs": [],
   "source": [
    "ohetrans = ohe.fit_transform(df[['sex', 'smoker', 'region']])"
   ]
  },
  {
   "cell_type": "code",
   "execution_count": 33,
   "id": "de93751c-684a-4e9e-952d-cbf19eb55255",
   "metadata": {},
   "outputs": [
    {
     "data": {
      "text/html": [
       "<div>\n",
       "<style scoped>\n",
       "    .dataframe tbody tr th:only-of-type {\n",
       "        vertical-align: middle;\n",
       "    }\n",
       "\n",
       "    .dataframe tbody tr th {\n",
       "        vertical-align: top;\n",
       "    }\n",
       "\n",
       "    .dataframe thead th {\n",
       "        text-align: right;\n",
       "    }\n",
       "</style>\n",
       "<table border=\"1\" class=\"dataframe\">\n",
       "  <thead>\n",
       "    <tr style=\"text-align: right;\">\n",
       "      <th></th>\n",
       "      <th>sex_female</th>\n",
       "      <th>sex_male</th>\n",
       "      <th>smoker_no</th>\n",
       "      <th>smoker_yes</th>\n",
       "      <th>region_northeast</th>\n",
       "      <th>region_northwest</th>\n",
       "      <th>region_southeast</th>\n",
       "      <th>region_southwest</th>\n",
       "    </tr>\n",
       "  </thead>\n",
       "  <tbody>\n",
       "    <tr>\n",
       "      <th>0</th>\n",
       "      <td>1.0</td>\n",
       "      <td>0.0</td>\n",
       "      <td>0.0</td>\n",
       "      <td>1.0</td>\n",
       "      <td>0.0</td>\n",
       "      <td>0.0</td>\n",
       "      <td>0.0</td>\n",
       "      <td>1.0</td>\n",
       "    </tr>\n",
       "    <tr>\n",
       "      <th>1</th>\n",
       "      <td>0.0</td>\n",
       "      <td>1.0</td>\n",
       "      <td>1.0</td>\n",
       "      <td>0.0</td>\n",
       "      <td>0.0</td>\n",
       "      <td>0.0</td>\n",
       "      <td>1.0</td>\n",
       "      <td>0.0</td>\n",
       "    </tr>\n",
       "    <tr>\n",
       "      <th>2</th>\n",
       "      <td>0.0</td>\n",
       "      <td>1.0</td>\n",
       "      <td>1.0</td>\n",
       "      <td>0.0</td>\n",
       "      <td>0.0</td>\n",
       "      <td>0.0</td>\n",
       "      <td>1.0</td>\n",
       "      <td>0.0</td>\n",
       "    </tr>\n",
       "    <tr>\n",
       "      <th>3</th>\n",
       "      <td>0.0</td>\n",
       "      <td>1.0</td>\n",
       "      <td>1.0</td>\n",
       "      <td>0.0</td>\n",
       "      <td>0.0</td>\n",
       "      <td>1.0</td>\n",
       "      <td>0.0</td>\n",
       "      <td>0.0</td>\n",
       "    </tr>\n",
       "    <tr>\n",
       "      <th>4</th>\n",
       "      <td>0.0</td>\n",
       "      <td>1.0</td>\n",
       "      <td>1.0</td>\n",
       "      <td>0.0</td>\n",
       "      <td>0.0</td>\n",
       "      <td>1.0</td>\n",
       "      <td>0.0</td>\n",
       "      <td>0.0</td>\n",
       "    </tr>\n",
       "    <tr>\n",
       "      <th>...</th>\n",
       "      <td>...</td>\n",
       "      <td>...</td>\n",
       "      <td>...</td>\n",
       "      <td>...</td>\n",
       "      <td>...</td>\n",
       "      <td>...</td>\n",
       "      <td>...</td>\n",
       "      <td>...</td>\n",
       "    </tr>\n",
       "    <tr>\n",
       "      <th>1333</th>\n",
       "      <td>0.0</td>\n",
       "      <td>1.0</td>\n",
       "      <td>1.0</td>\n",
       "      <td>0.0</td>\n",
       "      <td>0.0</td>\n",
       "      <td>1.0</td>\n",
       "      <td>0.0</td>\n",
       "      <td>0.0</td>\n",
       "    </tr>\n",
       "    <tr>\n",
       "      <th>1334</th>\n",
       "      <td>1.0</td>\n",
       "      <td>0.0</td>\n",
       "      <td>1.0</td>\n",
       "      <td>0.0</td>\n",
       "      <td>1.0</td>\n",
       "      <td>0.0</td>\n",
       "      <td>0.0</td>\n",
       "      <td>0.0</td>\n",
       "    </tr>\n",
       "    <tr>\n",
       "      <th>1335</th>\n",
       "      <td>1.0</td>\n",
       "      <td>0.0</td>\n",
       "      <td>1.0</td>\n",
       "      <td>0.0</td>\n",
       "      <td>0.0</td>\n",
       "      <td>0.0</td>\n",
       "      <td>1.0</td>\n",
       "      <td>0.0</td>\n",
       "    </tr>\n",
       "    <tr>\n",
       "      <th>1336</th>\n",
       "      <td>1.0</td>\n",
       "      <td>0.0</td>\n",
       "      <td>1.0</td>\n",
       "      <td>0.0</td>\n",
       "      <td>0.0</td>\n",
       "      <td>0.0</td>\n",
       "      <td>0.0</td>\n",
       "      <td>1.0</td>\n",
       "    </tr>\n",
       "    <tr>\n",
       "      <th>1337</th>\n",
       "      <td>1.0</td>\n",
       "      <td>0.0</td>\n",
       "      <td>0.0</td>\n",
       "      <td>1.0</td>\n",
       "      <td>0.0</td>\n",
       "      <td>1.0</td>\n",
       "      <td>0.0</td>\n",
       "      <td>0.0</td>\n",
       "    </tr>\n",
       "  </tbody>\n",
       "</table>\n",
       "<p>1338 rows × 8 columns</p>\n",
       "</div>"
      ],
      "text/plain": [
       "      sex_female  sex_male  smoker_no  smoker_yes  region_northeast  \\\n",
       "0            1.0       0.0        0.0         1.0               0.0   \n",
       "1            0.0       1.0        1.0         0.0               0.0   \n",
       "2            0.0       1.0        1.0         0.0               0.0   \n",
       "3            0.0       1.0        1.0         0.0               0.0   \n",
       "4            0.0       1.0        1.0         0.0               0.0   \n",
       "...          ...       ...        ...         ...               ...   \n",
       "1333         0.0       1.0        1.0         0.0               0.0   \n",
       "1334         1.0       0.0        1.0         0.0               1.0   \n",
       "1335         1.0       0.0        1.0         0.0               0.0   \n",
       "1336         1.0       0.0        1.0         0.0               0.0   \n",
       "1337         1.0       0.0        0.0         1.0               0.0   \n",
       "\n",
       "      region_northwest  region_southeast  region_southwest  \n",
       "0                  0.0               0.0               1.0  \n",
       "1                  0.0               1.0               0.0  \n",
       "2                  0.0               1.0               0.0  \n",
       "3                  1.0               0.0               0.0  \n",
       "4                  1.0               0.0               0.0  \n",
       "...                ...               ...               ...  \n",
       "1333               1.0               0.0               0.0  \n",
       "1334               0.0               0.0               0.0  \n",
       "1335               0.0               1.0               0.0  \n",
       "1336               0.0               0.0               1.0  \n",
       "1337               1.0               0.0               0.0  \n",
       "\n",
       "[1338 rows x 8 columns]"
      ]
     },
     "execution_count": 33,
     "metadata": {},
     "output_type": "execute_result"
    }
   ],
   "source": [
    "ohetrans"
   ]
  },
  {
   "cell_type": "code",
   "execution_count": 34,
   "id": "487edfda-b64d-429e-885f-c62bf175907e",
   "metadata": {},
   "outputs": [],
   "source": [
    "new_df = pd.concat([df, ohetrans], axis=1).drop(columns=(['sex', 'smoker', 'region']))"
   ]
  },
  {
   "cell_type": "code",
   "execution_count": 35,
   "id": "9a3fbd19-2125-413a-affb-72d88973f395",
   "metadata": {},
   "outputs": [
    {
     "data": {
      "text/html": [
       "<div>\n",
       "<style scoped>\n",
       "    .dataframe tbody tr th:only-of-type {\n",
       "        vertical-align: middle;\n",
       "    }\n",
       "\n",
       "    .dataframe tbody tr th {\n",
       "        vertical-align: top;\n",
       "    }\n",
       "\n",
       "    .dataframe thead th {\n",
       "        text-align: right;\n",
       "    }\n",
       "</style>\n",
       "<table border=\"1\" class=\"dataframe\">\n",
       "  <thead>\n",
       "    <tr style=\"text-align: right;\">\n",
       "      <th></th>\n",
       "      <th>age</th>\n",
       "      <th>bmi</th>\n",
       "      <th>children</th>\n",
       "      <th>charges</th>\n",
       "      <th>sex_female</th>\n",
       "      <th>sex_male</th>\n",
       "      <th>smoker_no</th>\n",
       "      <th>smoker_yes</th>\n",
       "      <th>region_northeast</th>\n",
       "      <th>region_northwest</th>\n",
       "      <th>region_southeast</th>\n",
       "      <th>region_southwest</th>\n",
       "    </tr>\n",
       "  </thead>\n",
       "  <tbody>\n",
       "    <tr>\n",
       "      <th>0</th>\n",
       "      <td>19</td>\n",
       "      <td>27.900</td>\n",
       "      <td>0</td>\n",
       "      <td>16884.92400</td>\n",
       "      <td>1.0</td>\n",
       "      <td>0.0</td>\n",
       "      <td>0.0</td>\n",
       "      <td>1.0</td>\n",
       "      <td>0.0</td>\n",
       "      <td>0.0</td>\n",
       "      <td>0.0</td>\n",
       "      <td>1.0</td>\n",
       "    </tr>\n",
       "    <tr>\n",
       "      <th>1</th>\n",
       "      <td>18</td>\n",
       "      <td>33.770</td>\n",
       "      <td>1</td>\n",
       "      <td>1725.55230</td>\n",
       "      <td>0.0</td>\n",
       "      <td>1.0</td>\n",
       "      <td>1.0</td>\n",
       "      <td>0.0</td>\n",
       "      <td>0.0</td>\n",
       "      <td>0.0</td>\n",
       "      <td>1.0</td>\n",
       "      <td>0.0</td>\n",
       "    </tr>\n",
       "    <tr>\n",
       "      <th>2</th>\n",
       "      <td>28</td>\n",
       "      <td>33.000</td>\n",
       "      <td>3</td>\n",
       "      <td>4449.46200</td>\n",
       "      <td>0.0</td>\n",
       "      <td>1.0</td>\n",
       "      <td>1.0</td>\n",
       "      <td>0.0</td>\n",
       "      <td>0.0</td>\n",
       "      <td>0.0</td>\n",
       "      <td>1.0</td>\n",
       "      <td>0.0</td>\n",
       "    </tr>\n",
       "    <tr>\n",
       "      <th>3</th>\n",
       "      <td>33</td>\n",
       "      <td>22.705</td>\n",
       "      <td>0</td>\n",
       "      <td>21984.47061</td>\n",
       "      <td>0.0</td>\n",
       "      <td>1.0</td>\n",
       "      <td>1.0</td>\n",
       "      <td>0.0</td>\n",
       "      <td>0.0</td>\n",
       "      <td>1.0</td>\n",
       "      <td>0.0</td>\n",
       "      <td>0.0</td>\n",
       "    </tr>\n",
       "    <tr>\n",
       "      <th>4</th>\n",
       "      <td>32</td>\n",
       "      <td>28.880</td>\n",
       "      <td>0</td>\n",
       "      <td>3866.85520</td>\n",
       "      <td>0.0</td>\n",
       "      <td>1.0</td>\n",
       "      <td>1.0</td>\n",
       "      <td>0.0</td>\n",
       "      <td>0.0</td>\n",
       "      <td>1.0</td>\n",
       "      <td>0.0</td>\n",
       "      <td>0.0</td>\n",
       "    </tr>\n",
       "    <tr>\n",
       "      <th>...</th>\n",
       "      <td>...</td>\n",
       "      <td>...</td>\n",
       "      <td>...</td>\n",
       "      <td>...</td>\n",
       "      <td>...</td>\n",
       "      <td>...</td>\n",
       "      <td>...</td>\n",
       "      <td>...</td>\n",
       "      <td>...</td>\n",
       "      <td>...</td>\n",
       "      <td>...</td>\n",
       "      <td>...</td>\n",
       "    </tr>\n",
       "    <tr>\n",
       "      <th>1333</th>\n",
       "      <td>50</td>\n",
       "      <td>30.970</td>\n",
       "      <td>3</td>\n",
       "      <td>10600.54830</td>\n",
       "      <td>0.0</td>\n",
       "      <td>1.0</td>\n",
       "      <td>1.0</td>\n",
       "      <td>0.0</td>\n",
       "      <td>0.0</td>\n",
       "      <td>1.0</td>\n",
       "      <td>0.0</td>\n",
       "      <td>0.0</td>\n",
       "    </tr>\n",
       "    <tr>\n",
       "      <th>1334</th>\n",
       "      <td>18</td>\n",
       "      <td>31.920</td>\n",
       "      <td>0</td>\n",
       "      <td>2205.98080</td>\n",
       "      <td>1.0</td>\n",
       "      <td>0.0</td>\n",
       "      <td>1.0</td>\n",
       "      <td>0.0</td>\n",
       "      <td>1.0</td>\n",
       "      <td>0.0</td>\n",
       "      <td>0.0</td>\n",
       "      <td>0.0</td>\n",
       "    </tr>\n",
       "    <tr>\n",
       "      <th>1335</th>\n",
       "      <td>18</td>\n",
       "      <td>36.850</td>\n",
       "      <td>0</td>\n",
       "      <td>1629.83350</td>\n",
       "      <td>1.0</td>\n",
       "      <td>0.0</td>\n",
       "      <td>1.0</td>\n",
       "      <td>0.0</td>\n",
       "      <td>0.0</td>\n",
       "      <td>0.0</td>\n",
       "      <td>1.0</td>\n",
       "      <td>0.0</td>\n",
       "    </tr>\n",
       "    <tr>\n",
       "      <th>1336</th>\n",
       "      <td>21</td>\n",
       "      <td>25.800</td>\n",
       "      <td>0</td>\n",
       "      <td>2007.94500</td>\n",
       "      <td>1.0</td>\n",
       "      <td>0.0</td>\n",
       "      <td>1.0</td>\n",
       "      <td>0.0</td>\n",
       "      <td>0.0</td>\n",
       "      <td>0.0</td>\n",
       "      <td>0.0</td>\n",
       "      <td>1.0</td>\n",
       "    </tr>\n",
       "    <tr>\n",
       "      <th>1337</th>\n",
       "      <td>61</td>\n",
       "      <td>29.070</td>\n",
       "      <td>0</td>\n",
       "      <td>29141.36030</td>\n",
       "      <td>1.0</td>\n",
       "      <td>0.0</td>\n",
       "      <td>0.0</td>\n",
       "      <td>1.0</td>\n",
       "      <td>0.0</td>\n",
       "      <td>1.0</td>\n",
       "      <td>0.0</td>\n",
       "      <td>0.0</td>\n",
       "    </tr>\n",
       "  </tbody>\n",
       "</table>\n",
       "<p>1338 rows × 12 columns</p>\n",
       "</div>"
      ],
      "text/plain": [
       "      age     bmi  children      charges  sex_female  sex_male  smoker_no  \\\n",
       "0      19  27.900         0  16884.92400         1.0       0.0        0.0   \n",
       "1      18  33.770         1   1725.55230         0.0       1.0        1.0   \n",
       "2      28  33.000         3   4449.46200         0.0       1.0        1.0   \n",
       "3      33  22.705         0  21984.47061         0.0       1.0        1.0   \n",
       "4      32  28.880         0   3866.85520         0.0       1.0        1.0   \n",
       "...   ...     ...       ...          ...         ...       ...        ...   \n",
       "1333   50  30.970         3  10600.54830         0.0       1.0        1.0   \n",
       "1334   18  31.920         0   2205.98080         1.0       0.0        1.0   \n",
       "1335   18  36.850         0   1629.83350         1.0       0.0        1.0   \n",
       "1336   21  25.800         0   2007.94500         1.0       0.0        1.0   \n",
       "1337   61  29.070         0  29141.36030         1.0       0.0        0.0   \n",
       "\n",
       "      smoker_yes  region_northeast  region_northwest  region_southeast  \\\n",
       "0            1.0               0.0               0.0               0.0   \n",
       "1            0.0               0.0               0.0               1.0   \n",
       "2            0.0               0.0               0.0               1.0   \n",
       "3            0.0               0.0               1.0               0.0   \n",
       "4            0.0               0.0               1.0               0.0   \n",
       "...          ...               ...               ...               ...   \n",
       "1333         0.0               0.0               1.0               0.0   \n",
       "1334         0.0               1.0               0.0               0.0   \n",
       "1335         0.0               0.0               0.0               1.0   \n",
       "1336         0.0               0.0               0.0               0.0   \n",
       "1337         1.0               0.0               1.0               0.0   \n",
       "\n",
       "      region_southwest  \n",
       "0                  1.0  \n",
       "1                  0.0  \n",
       "2                  0.0  \n",
       "3                  0.0  \n",
       "4                  0.0  \n",
       "...                ...  \n",
       "1333               0.0  \n",
       "1334               0.0  \n",
       "1335               0.0  \n",
       "1336               1.0  \n",
       "1337               0.0  \n",
       "\n",
       "[1338 rows x 12 columns]"
      ]
     },
     "execution_count": 35,
     "metadata": {},
     "output_type": "execute_result"
    }
   ],
   "source": [
    "new_df"
   ]
  },
  {
   "cell_type": "code",
   "execution_count": 36,
   "id": "f327639f-dca3-4aa0-a8ba-080d03665627",
   "metadata": {},
   "outputs": [
    {
     "name": "stdout",
     "output_type": "stream",
     "text": [
      "<class 'pandas.core.frame.DataFrame'>\n",
      "RangeIndex: 1338 entries, 0 to 1337\n",
      "Data columns (total 12 columns):\n",
      " #   Column            Non-Null Count  Dtype  \n",
      "---  ------            --------------  -----  \n",
      " 0   age               1338 non-null   int64  \n",
      " 1   bmi               1338 non-null   float64\n",
      " 2   children          1338 non-null   int64  \n",
      " 3   charges           1338 non-null   float64\n",
      " 4   sex_female        1338 non-null   float64\n",
      " 5   sex_male          1338 non-null   float64\n",
      " 6   smoker_no         1338 non-null   float64\n",
      " 7   smoker_yes        1338 non-null   float64\n",
      " 8   region_northeast  1338 non-null   float64\n",
      " 9   region_northwest  1338 non-null   float64\n",
      " 10  region_southeast  1338 non-null   float64\n",
      " 11  region_southwest  1338 non-null   float64\n",
      "dtypes: float64(10), int64(2)\n",
      "memory usage: 125.6 KB\n"
     ]
    }
   ],
   "source": [
    "new_df.info()"
   ]
  },
  {
   "cell_type": "markdown",
   "id": "07574b23-e176-47ea-b062-b958b2b26a68",
   "metadata": {},
   "source": [
    "# Spliting and Training our Data"
   ]
  },
  {
   "cell_type": "markdown",
   "id": "9d5d2406-cf2d-4132-8764-13f5d714f0bb",
   "metadata": {},
   "source": [
    "Now we split our dataset for training and testing using sklearn library "
   ]
  },
  {
   "cell_type": "code",
   "execution_count": 37,
   "id": "4b4dc1e1-bc0c-4222-b367-d597ec4808c4",
   "metadata": {},
   "outputs": [],
   "source": [
    "\n",
    "X = new_df[['age', 'sex_female', 'sex_male', 'bmi', 'children', 'smoker_no', 'smoker_yes', 'region_northeast', 'region_northwest', 'region_southeast', 'region_southwest']]\n",
    "y = new_df['charges']"
   ]
  },
  {
   "cell_type": "code",
   "execution_count": 38,
   "id": "e4261f5f-21e9-4494-a2a9-d7cea2259760",
   "metadata": {},
   "outputs": [],
   "source": [
    "X_train, X_test, y_train, y_test = train_test_split(X,y, test_size=0.3, random_state=42)"
   ]
  },
  {
   "cell_type": "markdown",
   "id": "6850da58-0c28-400b-b286-83671f4c0c5e",
   "metadata": {
    "jp-MarkdownHeadingCollapsed": true
   },
   "source": [
    "Next"
   ]
  },
  {
   "cell_type": "markdown",
   "id": "1392004a-757a-4618-8a56-7e9e28477078",
   "metadata": {},
   "source": [
    "# Evaluation Metrics"
   ]
  },
  {
   "cell_type": "markdown",
   "id": "2b4bfd15-e80f-4d4e-8c80-4bef32df3c8a",
   "metadata": {},
   "source": [
    "NOW WE APPLY OUR METRICS TO IMPROVE OUR MODEL AND TRAIN OUR MODEL TO MAKE ACCURATE PREDICTIONS"
   ]
  },
  {
   "cell_type": "markdown",
   "id": "8e5f3815-49de-4004-8fdd-2e802d56df26",
   "metadata": {},
   "source": [
    "## <a name=\"Normalization\"> Normalize Features (Z-score)<a>\n",
    "Makes training stable (all features are scaled).\n",
    "<br> Speeds up gradient descent.\n",
    "<br><br>\n",
    "Using the normalization formular <br>\n",
    "Where: \n",
    "$$ \\frac{Mean}{Standard Deviation} $$\n",
    "\n",
    "**Implementation**"
   ]
  },
  {
   "cell_type": "code",
   "execution_count": 51,
   "id": "eaced64f-be0f-41f9-9175-4dacde3230bb",
   "metadata": {},
   "outputs": [],
   "source": [
    "def normalize_features (X):\n",
    "    mean = np.mean(X, axis=0)\n",
    "    std = np.std(X, axis=0)\n",
    "    X_norm = (X - mean) / std\n",
    "    return X_norm, mean, std"
   ]
  },
  {
   "cell_type": "markdown",
   "id": "e1b7463b-d76c-490f-a51b-13ade9bf14a1",
   "metadata": {},
   "source": [
    "We normalize the training and test data\n",
    "Makes training stable (all features are scaled)."
   ]
  },
  {
   "cell_type": "code",
   "execution_count": 52,
   "id": "950a9554-28ad-4d1a-aacb-3db26157bb06",
   "metadata": {},
   "outputs": [],
   "source": [
    "X_train_norm, mean, std = normalize_features(X_train)\n",
    "X_test_norm = (X_test - mean) / std"
   ]
  },
  {
   "cell_type": "markdown",
   "id": "31ca1478-8d5e-4c3b-8f85-24758141c225",
   "metadata": {},
   "source": [
    "Using weight + bias to make prediction in all data points in X"
   ]
  },
  {
   "cell_type": "code",
   "execution_count": 53,
   "id": "872d351b-baae-4d15-a44a-4113084bb735",
   "metadata": {},
   "outputs": [],
   "source": [
    "def predict(X, w, b):\n",
    "    p = np.dot(X,w)+b\n",
    "    return p "
   ]
  },
  {
   "cell_type": "markdown",
   "id": "14fd8265-1a7f-40cc-9525-011a59c2fd99",
   "metadata": {},
   "source": [
    "Next"
   ]
  },
  {
   "cell_type": "markdown",
   "id": "67ea47db-b897-4a1d-8184-7fe39231ab67",
   "metadata": {},
   "source": [
    "## <a name='R2'> We Check how Accurate our Model is by using the R² Score Metrics<a>\n",
    "<br>\n",
    "WHEREAS: R² Score= <br>\n",
    "$$ R^2 = 1 - \\frac{RSS}{TSS} \\tag{1}$$ <br>\n",
    "$$ R^2 = 1 - \\frac{\\sum (y_i - \\hat{y}_i)^2}{\\sum (y_i - \\bar{y})^2} \\tag{2}$$\n",
    "Where: <br>\n",
    "$ \\hat{y} $= predicted value <br>\n",
    "$ y_i $ = actual value <br>\n",
    "$ \\bar{y} $ = mean of the actual value <br> <br>\n"
   ]
  },
  {
   "cell_type": "code",
   "execution_count": 54,
   "id": "cbd3f4f4-43cb-4048-9520-97a53a8690c7",
   "metadata": {},
   "outputs": [],
   "source": [
    "def r2_score_metrics(y_true, y_pred):\n",
    "    RSS = np.sum((y_true - y_pred) ** 2)\n",
    "    TSS = np.sum((y_true - np.mean(y)) ** 2 )\n",
    "    r2 = 1- (RSS/TSS)\n",
    "    return r2"
   ]
  },
  {
   "cell_type": "markdown",
   "id": "b774800b-8761-4a90-b47f-50a486abee6c",
   "metadata": {},
   "source": [
    "## <a> COMPUTE THE COST AND THE GRADIENT DESCENT FOR THE MODEL WITH MULTIPLE VARIABLES<a>\n",
    "<br>\n",
    "This cost function calculate far our prediction is from the actual values. And the cost function that will be used is the MSE (Mean Squared Error).\n",
    "So  we are to match how well our prediction is from the actual value. <br>\n",
    "And this Cost Function is minimized using Gradient Descent. <br>\n",
    "Lower Cost Means better performance. <br>\n",
    "Where Cost Function: <br>\n",
    "$$ J(\\mathbf{w},b) = \\frac{1}{2m} \\sum_{i=1}^{m} \\left(f_{\\mathbf{w}},b(x^{(i)}) - y^{(i)}\\right)^2 $$ <br>\n",
    "Where: <br>\n",
    "m = number of training dataset <br>\n",
    "$f_{\\mathbf{w}},b(x^{(i)})$ = $ X^{(i)} . w $ <br>\n",
    "w = weights <br>\n",
    "y = target/output <br>\n",
    "<br>\n"
   ]
  },
  {
   "cell_type": "code",
   "execution_count": 55,
   "id": "581283e5-fe90-43d3-806d-44dc9a6b57d2",
   "metadata": {},
   "outputs": [],
   "source": [
    "def compute_cost(X, y, w,b):\n",
    "    m = X.shape[0]\n",
    "    y_pred = predict (X,w,b)\n",
    "    cost = (1/ (2 * m)) * np.sum((y_pred - y)**2)\n",
    "    return cost"
   ]
  },
  {
   "cell_type": "raw",
   "id": "7cc2f049-1e76-4dbe-b364-64f884ffefd6",
   "metadata": {},
   "source": [
    "Before we implement Gradient we should check our cost for now"
   ]
  },
  {
   "cell_type": "code",
   "execution_count": 56,
   "id": "be9e3f8e-1f9c-4c09-9e19-f1545f93ad20",
   "metadata": {},
   "outputs": [
    {
     "name": "stdout",
     "output_type": "stream",
     "text": [
      "The Cost of our model is 161711128.66805124\n"
     ]
    }
   ],
   "source": [
    "w_init = np.array([0.5, 1., 1, 1.5, 1.0 ,1,0,0,0.5,0,0.4])\n",
    "b_init = 5\n",
    "print(\"The Cost of our model is {}\".format(compute_cost(X_train, y_train, w_init, b_init)))"
   ]
  },
  {
   "cell_type": "markdown",
   "id": "7e50bfe8-18ee-4b17-8e7e-cb1d9dd025af",
   "metadata": {},
   "source": [
    "Now We implement Gradient Descent\n",
    "To minimize the Cost Function as you can see the cost function is very big, which means our model is not prediciting well"
   ]
  },
  {
   "cell_type": "markdown",
   "id": "ccfd6a94-1049-4061-b0db-55d710bf000e",
   "metadata": {},
   "source": [
    "<a> GRADIENT DESCENT <a> <br> <br>\n",
    "We will be minimizing cost function using gradient descent to find the best w and b: \n",
    "$$ \\hat{y}^{(i)} = w_1 x_1^{(i)} + w_2 x_2^{(i)} + \\dots + w_n x_n^{(i)} + b $$ <br> \n",
    "$$ w_j := w_j - \\alpha \\cdot \\frac{\\partial J(w, b)}{\\partial w_j} \\tag{2} $$ \n",
    "\n",
    "$$ b := b - \\alpha \\cdot \\frac{\\partial J(w, b)}{\\partial b}$$ <br>\n",
    "\n",
    "Where: <br>\n",
    "\n",
    "$$ \\frac{\\partial J(w, b)}{\\partial w_j} = \\frac{1}{m} \\sum_{i=0}^{m-1} \\left( f_{w,b}(x^{(i)}) - y^{(i)} \\right) \\cdot x_j^{(i)} \\tag{3}$$\n",
    "\n",
    "$$\\frac{\\partial J(w, b)}{\\partial b} = \\frac{1}{m} \\sum_{i=0}^{m-1} \\left( f_{w,b}(x^{(i)}) - y^{(i)} \\right)$$\n",
    "\n"
   ]
  },
  {
   "cell_type": "code",
   "execution_count": 60,
   "id": "66e5f2e7-c5b4-472f-940f-03ab0f0afa1e",
   "metadata": {},
   "outputs": [],
   "source": [
    "def compute_gradient(X, y, w, b):\n",
    "    m = X.shape[0]\n",
    "    y_pred = np.dot(X,w)+b\n",
    "    error = y_pred - y\n",
    "    dw = (1/m) * X.T.dot(error)\n",
    "    db = (1/m) * np.sum(error)\n",
    "    return dw, db"
   ]
  },
  {
   "cell_type": "markdown",
   "id": "3c1ddf5d-1ff9-4bc2-8d38-9b6c3cc966e3",
   "metadata": {},
   "source": [
    "This helps us to adjust w and b to reduce cost"
   ]
  },
  {
   "cell_type": "code",
   "execution_count": 61,
   "id": "2a7307e1-4ef5-47eb-8004-b3cdc403caaf",
   "metadata": {},
   "outputs": [],
   "source": [
    "def gradient_descent(X, y, w,b, alpha, iterations):\n",
    "    cost_history = []\n",
    "\n",
    "    for i in range(iterations):\n",
    "        dw, db = compute_gradient(X, y, w,b)\n",
    "        w = w - alpha * dw\n",
    "        b = b - alpha * db\n",
    "        cost = compute_cost(X,y,w,b)\n",
    "        cost_history.append(cost)\n",
    "        \n",
    "        if i % 100==0:\n",
    "            print(f\"iterations===> {i}: Cost===> {cost}\")\n",
    "    return w, b, cost_history\n",
    "        "
   ]
  },
  {
   "cell_type": "markdown",
   "id": "fcc8c5a7-61ae-4222-8b63-ec5c8b48945b",
   "metadata": {},
   "source": [
    "# Standardize Our Data Points <br> \n",
    "using Standard Scaler from Sklearn"
   ]
  },
  {
   "cell_type": "code",
   "execution_count": 62,
   "id": "e6cbee4b-eeed-4b3d-abd7-e3254e6b46de",
   "metadata": {},
   "outputs": [
    {
     "name": "stdout",
     "output_type": "stream",
     "text": [
      " Standard Deviation and Mean of our data is:\n",
      " [[ 1.54446486  1.02597835 -1.02597835 ...  1.75708174 -0.59380229\n",
      "  -0.55760593]\n",
      " [ 0.48187425 -0.97467943  0.97467943 ... -0.56912549 -0.59380229\n",
      "   1.79338122]\n",
      " [ 1.04858924  1.02597835 -1.02597835 ... -0.56912549  1.68406222\n",
      "  -0.55760593]\n",
      " ...\n",
      " [ 1.33194673 -0.97467943  0.97467943 ... -0.56912549 -0.59380229\n",
      "  -0.55760593]\n",
      " [-0.15568012  1.02597835 -1.02597835 ... -0.56912549 -0.59380229\n",
      "   1.79338122]\n",
      " [ 1.11942861 -0.97467943  0.97467943 ... -0.56912549 -0.59380229\n",
      "   1.79338122]]\n"
     ]
    }
   ],
   "source": [
    "scaler = StandardScaler()\n",
    "X_train_scaled = scaler.fit_transform(X_train)\n",
    "X_test_scaled = scaler.transform(X_test)\n",
    "print(\" Standard Deviation and Mean of our data is:\\n\", X_train_scaled)"
   ]
  },
  {
   "cell_type": "markdown",
   "id": "a2556b13-3d9d-4b08-84f7-ec8455237feb",
   "metadata": {},
   "source": [
    "  ## HYPERPARAMETER "
   ]
  },
  {
   "cell_type": "markdown",
   "id": "b3ade695-5eff-4cac-b0e7-02bf2706033f",
   "metadata": {},
   "source": [
    "Now we initialize some parameters"
   ]
  },
  {
   "cell_type": "code",
   "execution_count": 63,
   "id": "3178ce72-cede-4b62-94fd-97a4ae689850",
   "metadata": {},
   "outputs": [
    {
     "name": "stdout",
     "output_type": "stream",
     "text": [
      "iterations===> 0: Cost===> 158997658.9472522\n",
      "iterations===> 100: Cost===> 32685065.89618424\n",
      "iterations===> 200: Cost===> 20622048.849517956\n",
      "iterations===> 300: Cost===> 19098223.116923388\n",
      "iterations===> 400: Cost===> 18896411.385478918\n",
      "iterations===> 500: Cost===> 18869450.7124768\n",
      "iterations===> 600: Cost===> 18865836.599931218\n",
      "iterations===> 700: Cost===> 18865350.695721623\n",
      "iterations===> 800: Cost===> 18865285.14641439\n",
      "iterations===> 900: Cost===> 18865276.26541084\n",
      "iterations===> 1000: Cost===> 18865275.055073272\n",
      "iterations===> 1100: Cost===> 18865274.88874997\n",
      "iterations===> 1200: Cost===> 18865274.865619726\n",
      "iterations===> 1300: Cost===> 18865274.862347424\n",
      "iterations===> 1400: Cost===> 18865274.86187316\n",
      "iterations===> 1500: Cost===> 18865274.861802127\n",
      "iterations===> 1600: Cost===> 18865274.861791037\n",
      "iterations===> 1700: Cost===> 18865274.861789215\n",
      "iterations===> 1800: Cost===> 18865274.8617889\n",
      "iterations===> 1900: Cost===> 18865274.861788843\n",
      "iterations===> 2000: Cost===> 18865274.861788828\n",
      "iterations===> 2100: Cost===> 18865274.861788824\n",
      "iterations===> 2200: Cost===> 18865274.861788824\n",
      "iterations===> 2300: Cost===> 18865274.861788824\n",
      "iterations===> 2400: Cost===> 18865274.861788828\n",
      "iterations===> 2500: Cost===> 18865274.861788824\n",
      "iterations===> 2600: Cost===> 18865274.861788824\n",
      "iterations===> 2700: Cost===> 18865274.861788824\n",
      "iterations===> 2800: Cost===> 18865274.861788824\n",
      "iterations===> 2900: Cost===> 18865274.861788824\n",
      "iterations===> 3000: Cost===> 18865274.861788824\n",
      "iterations===> 3100: Cost===> 18865274.861788824\n",
      "iterations===> 3200: Cost===> 18865274.861788824\n",
      "iterations===> 3300: Cost===> 18865274.861788824\n",
      "iterations===> 3400: Cost===> 18865274.861788828\n",
      "iterations===> 3500: Cost===> 18865274.861788824\n",
      "iterations===> 3600: Cost===> 18865274.861788828\n",
      "iterations===> 3700: Cost===> 18865274.861788828\n",
      "iterations===> 3800: Cost===> 18865274.861788828\n",
      "iterations===> 3900: Cost===> 18865274.861788824\n",
      "iterations===> 4000: Cost===> 18865274.861788824\n",
      "iterations===> 4100: Cost===> 18865274.861788828\n",
      "iterations===> 4200: Cost===> 18865274.861788828\n",
      "iterations===> 4300: Cost===> 18865274.861788828\n",
      "iterations===> 4400: Cost===> 18865274.861788828\n",
      "iterations===> 4500: Cost===> 18865274.861788828\n",
      "iterations===> 4600: Cost===> 18865274.861788828\n",
      "iterations===> 4700: Cost===> 18865274.861788828\n",
      "iterations===> 4800: Cost===> 18865274.861788828\n",
      "iterations===> 4900: Cost===> 18865274.861788828\n",
      "iterations===> 5000: Cost===> 18865274.861788828\n",
      "iterations===> 5100: Cost===> 18865274.861788828\n",
      "iterations===> 5200: Cost===> 18865274.861788828\n",
      "iterations===> 5300: Cost===> 18865274.861788828\n",
      "iterations===> 5400: Cost===> 18865274.861788828\n",
      "iterations===> 5500: Cost===> 18865274.861788828\n",
      "iterations===> 5600: Cost===> 18865274.861788828\n",
      "iterations===> 5700: Cost===> 18865274.861788828\n",
      "iterations===> 5800: Cost===> 18865274.861788828\n",
      "iterations===> 5900: Cost===> 18865274.861788828\n",
      "iterations===> 6000: Cost===> 18865274.861788828\n",
      "iterations===> 6100: Cost===> 18865274.861788828\n",
      "iterations===> 6200: Cost===> 18865274.861788828\n",
      "iterations===> 6300: Cost===> 18865274.861788828\n",
      "iterations===> 6400: Cost===> 18865274.861788828\n",
      "iterations===> 6500: Cost===> 18865274.861788828\n",
      "iterations===> 6600: Cost===> 18865274.861788828\n",
      "iterations===> 6700: Cost===> 18865274.861788828\n",
      "iterations===> 6800: Cost===> 18865274.861788828\n",
      "iterations===> 6900: Cost===> 18865274.861788828\n",
      "iterations===> 7000: Cost===> 18865274.861788828\n",
      "iterations===> 7100: Cost===> 18865274.861788828\n",
      "iterations===> 7200: Cost===> 18865274.861788828\n",
      "iterations===> 7300: Cost===> 18865274.861788828\n",
      "iterations===> 7400: Cost===> 18865274.861788828\n",
      "iterations===> 7500: Cost===> 18865274.861788828\n",
      "iterations===> 7600: Cost===> 18865274.861788828\n",
      "iterations===> 7700: Cost===> 18865274.861788828\n",
      "iterations===> 7800: Cost===> 18865274.861788828\n",
      "iterations===> 7900: Cost===> 18865274.861788828\n",
      "iterations===> 8000: Cost===> 18865274.861788828\n",
      "iterations===> 8100: Cost===> 18865274.861788828\n",
      "iterations===> 8200: Cost===> 18865274.861788828\n",
      "iterations===> 8300: Cost===> 18865274.861788828\n",
      "iterations===> 8400: Cost===> 18865274.861788828\n",
      "iterations===> 8500: Cost===> 18865274.861788828\n",
      "iterations===> 8600: Cost===> 18865274.861788828\n",
      "iterations===> 8700: Cost===> 18865274.861788828\n",
      "iterations===> 8800: Cost===> 18865274.861788828\n",
      "iterations===> 8900: Cost===> 18865274.861788828\n",
      "iterations===> 9000: Cost===> 18865274.861788828\n",
      "iterations===> 9100: Cost===> 18865274.861788828\n",
      "iterations===> 9200: Cost===> 18865274.861788828\n",
      "iterations===> 9300: Cost===> 18865274.861788828\n",
      "iterations===> 9400: Cost===> 18865274.861788828\n",
      "iterations===> 9500: Cost===> 18865274.861788828\n",
      "iterations===> 9600: Cost===> 18865274.861788828\n",
      "iterations===> 9700: Cost===> 18865274.861788828\n",
      "iterations===> 9800: Cost===> 18865274.861788828\n",
      "iterations===> 9900: Cost===> 18865274.861788828\n",
      "predictions===> [ 9.01636753e+03  7.01997635e+03  3.68708343e+04  9.51853774e+03\n",
      "  2.69740308e+04  1.10808462e+04 -4.06177600e+01  1.71922331e+04\n",
      "  9.74950536e+02  1.13299594e+04  2.80574861e+04  9.47838799e+03\n",
      "  4.98095281e+03  3.84564701e+04  4.03433327e+04  3.71038753e+04\n",
      "  1.51982019e+04  3.57689693e+04  8.88568387e+03  3.13835989e+04\n",
      "  3.79641903e+03  1.02628964e+04  2.37593679e+03  7.26280819e+03\n",
      "  1.12875675e+04  1.31383480e+04  1.46241614e+04  6.07324604e+03\n",
      "  1.00361537e+04  1.97927814e+03  9.07103928e+03  1.31369887e+04\n",
      "  4.30868680e+03  3.21105955e+03  4.48957162e+03  1.33774493e+04\n",
      "  1.82221028e+03  8.79191682e+03  3.31981518e+04  3.25005781e+04\n",
      "  3.76368816e+03  4.35479656e+03  1.42473276e+04  1.15436019e+04\n",
      "  8.70433805e+03  1.22401028e+04  5.20831471e+03  2.98293172e+03\n",
      "  3.54465532e+04  9.10285846e+03  1.57820945e+04  2.13473894e+03\n",
      "  1.24668220e+04  1.54938571e+03  1.34053719e+04  1.28473334e+04\n",
      "  4.45292570e+03  3.22437514e+04  1.34037537e+04  1.30759280e+04\n",
      "  1.42566593e+04  1.03870794e+04  1.66115344e+04  7.67924983e+03\n",
      "  1.19859772e+04  3.92843534e+03  2.65835119e+04  1.08308191e+04\n",
      "  1.95128291e+03  6.33488049e+03  1.10112514e+04  1.17636262e+04\n",
      "  1.08263871e+04  9.08234702e+03  1.19604601e+04  6.50105143e+03\n",
      "  7.42735409e+03  1.07211916e+04  6.33354759e+03  8.69733988e+03\n",
      "  3.61488505e+03  3.68736945e+04  6.30687909e+03  3.09068874e+04\n",
      "  3.49064234e+04  3.55280239e+04  6.88613550e+03  1.30506683e+04\n",
      "  9.92931617e+03  1.46956125e+04  1.79662926e+04  3.50278076e+04\n",
      "  3.30746710e+04  6.32482249e+03  3.19085861e+04  9.60073983e+03\n",
      "  2.92677441e+04  3.39493394e+03  2.81321269e+04  5.80676746e+03\n",
      "  5.31282926e+03  1.74776460e+03  1.15200454e+04  1.53050498e+04\n",
      "  1.19233534e+04  4.16886626e+03  9.81313523e+03  3.15291378e+04\n",
      " -7.47759770e+01  3.25392808e+04  3.31798546e+03  1.02123570e+04\n",
      "  1.45082163e+04  3.16997266e+04  1.15930594e+04  3.96851082e+03\n",
      "  1.33856566e+04  3.17279010e+04  7.91762470e+03  3.22395489e+03\n",
      "  8.53540558e+03  1.07379420e+04  1.54527618e+04  5.54280724e+03\n",
      "  3.62333901e+03  1.02353762e+04  1.07499966e+04  1.13664096e+04\n",
      "  1.43531092e+04  7.39239715e+03  5.11044589e+03  9.15211414e+03\n",
      "  9.16049984e+03  1.27422989e+04  8.33444005e+03  1.55896092e+04\n",
      "  8.65087064e+03  3.18745705e+04  3.58544577e+04  3.16617444e+04\n",
      "  5.92615317e+03  1.27853573e+04  5.91188204e+03  1.46675118e+04\n",
      "  2.27316618e+03  3.30166968e+04  6.29418942e+03  4.95310907e+03\n",
      "  1.44325801e+04  7.01569740e+03  3.87492720e+04  2.96019320e+03\n",
      "  5.81725421e+03  3.18785754e+04  1.16459127e+04  8.71329062e+03\n",
      "  1.51346583e+04  9.60753792e+03  2.68003840e+04  3.36706354e+04\n",
      "  1.47334585e+04  1.51047070e+03  1.33077834e+04  2.29238567e+03\n",
      "  5.49596778e+03  1.15549473e+04  3.99435773e+04  3.65333329e+04\n",
      "  3.42186307e+04  3.80401582e+03  7.35909889e+03  8.65388710e+03\n",
      "  1.28040524e+04  4.81713793e+03  1.90362292e+03  3.19590456e+04\n",
      "  2.50622553e+04  1.76066342e+04  2.61755399e+04  1.01206885e+04\n",
      "  3.73947874e+04 -5.95739589e+02  6.77709620e+03  7.76609078e+03\n",
      "  4.43645530e+03  5.04452875e+03  6.07417881e+03  4.20334246e+03\n",
      "  1.51726032e+04  1.12607758e+04  7.03115820e+03  2.50525091e+03\n",
      "  1.46223072e+03  3.20466562e+04  1.65083439e+04  1.18789362e+04\n",
      "  1.07957066e+03  1.26607400e+04  1.51086620e+03  8.69657642e+03\n",
      "  1.68902224e+03  3.40058138e+04  1.08756889e+04  2.56974017e+03\n",
      "  2.52981537e+04  2.59738976e+04  9.52339115e+03  1.58473036e+03\n",
      "  1.33107441e+04  9.13519256e+02  1.04715423e+04  1.03398989e+04\n",
      "  1.72658883e+04  2.66233875e+04  6.77219998e+03  5.20991396e+03\n",
      "  5.56558337e+03  1.30540226e+04  1.08915693e+04  8.16068430e+03\n",
      "  5.08929190e+03  1.25297793e+04  1.39348614e+04  3.57516495e+04\n",
      "  4.19584669e+03  2.87579313e+04 -1.14816280e+03  2.88161740e+03\n",
      "  1.09878160e+04  1.56242628e+04  5.10433431e+03  6.76301444e+03\n",
      "  3.70867236e+03  3.13682722e+04  7.12374983e+03  1.24206482e+04\n",
      "  5.65837260e+03  9.67672163e+03  3.61915157e+04  4.29099794e+03\n",
      "  9.70105983e+03  3.12449368e+04  5.70357956e+03  4.31220132e+03\n",
      "  9.92286457e+02  4.87642666e+03  4.45920549e+03  6.58071354e+03\n",
      "  1.86745012e+04 -1.69255225e+03  2.25329636e+03  1.08451735e+04\n",
      "  3.01782548e+03  1.02761615e+04  3.63182475e+03  4.85687937e+03\n",
      "  1.25657503e+04  6.29493049e+03  8.39003640e+03  7.63851451e+03\n",
      "  8.87347523e+03  1.04366607e+04  2.76138998e+04  3.90930962e+04\n",
      "  1.17741240e+04  7.86236646e+03  4.09351452e+04  1.23825919e+04\n",
      "  6.96769121e+03  8.39240771e+03  8.91633322e+03  1.09407283e+04\n",
      "  1.00125242e+04  1.76907551e+04  9.26683559e+02  2.35867374e+04\n",
      "  1.29922761e+04  3.33839370e+04  5.28567464e+03  1.31828238e+04\n",
      "  1.03836902e+04  1.80715482e+04  9.94657758e+03  1.15453067e+04\n",
      "  3.23413107e+04  3.41161034e+03  1.35695874e+04  3.94082337e+04\n",
      "  5.63940644e+03  6.20614527e+03  3.46648946e+03  1.15027340e+04\n",
      "  2.54222822e+04  1.43993856e+04  9.12076342e+03  1.02268595e+04\n",
      "  1.34991650e+04  8.25909265e+02  2.19043856e+03  3.06679851e+04\n",
      "  3.00633206e+04  1.36495385e+04  3.62504384e+03  2.53430882e+04\n",
      "  1.33871712e+04  3.06238167e+04  3.52503711e+03  3.89322157e+04\n",
      "  1.11916611e+04  4.71456861e+03  6.78218447e+03  2.36501751e+03\n",
      "  2.58238275e+04  1.44838321e+04  4.96503755e+02  1.28284375e+04\n",
      "  1.26451381e+04  1.50224474e+04  3.49844233e+04  1.44199994e+04\n",
      "  3.14508055e+04  1.00596099e+04  1.84250838e+04  6.02322900e+03\n",
      "  8.77054459e+03  9.42475332e+03  1.52623599e+04  9.10147364e+03\n",
      "  8.57703747e+03  1.52538666e+04  1.29162371e+04  1.50507091e+04\n",
      "  7.55688638e+03  2.59073220e+04  9.17887997e+03  1.76843257e+03\n",
      "  4.06914171e+03  1.44063918e+04  3.56818824e+04  9.65101980e+03\n",
      "  1.27491470e+04  5.36425043e+03  4.90925822e+03  3.96001083e+03\n",
      "  2.83671248e+03  8.96711387e+03  6.97687982e+03  2.29664368e+03\n",
      "  1.32191990e+04  8.83743782e+03  5.95734540e+03  6.77014819e+02\n",
      "  9.45177386e+03  4.78553948e+03  3.30846888e+04  2.84093679e+04\n",
      "  3.68889748e+04  5.66951803e+03  8.49155880e+03  8.19133366e+03\n",
      "  3.54425195e+03  3.17311679e+04  7.22097249e+03  2.81725993e+04\n",
      "  3.62070046e+04  6.92517056e+03  1.30191895e+04  9.89787484e+03\n",
      "  8.25555525e+03  1.29121247e+04  3.02357185e+04  1.73698010e+04\n",
      "  1.20163203e+04  3.92606402e+03 -1.31795195e+03  1.23019494e+04\n",
      "  3.09216571e+04  1.29541180e+04  1.13530730e+04  7.95364590e+03\n",
      "  3.70314484e+03  7.16459184e+03  7.19704321e+03  1.07380621e+04\n",
      "  3.36978089e+04  3.92682564e+04  1.19732353e+04  8.28169782e+03\n",
      "  1.65740731e+04  1.57632625e+04  9.68911634e+03  9.40128897e+03\n",
      "  8.88121990e+03  2.71557719e+03  1.01799538e+04  3.69233650e+03\n",
      "  1.06473891e+04  1.63027222e+04  6.52910373e+03  2.17378934e+03\n",
      "  1.45036622e+04  1.30534757e+02], target value===>332     13429.03540\n",
      "355     24603.04837\n",
      "138     27322.73386\n",
      "381     42303.69215\n",
      "292     42112.23560\n",
      "           ...     \n",
      "1095     4561.18850\n",
      "1130     8582.30230\n",
      "1294    11931.12525\n",
      "860     46113.51100\n",
      "1126    10214.63600\n",
      "Name: charges, Length: 936, dtype: float64\n",
      "b,w found by gradient descent: 13379.157306773415,[ 3688.58318998   -26.1943406     26.1943406   2090.99783407\n",
      "   514.02360356 -4797.93408375  4797.93408375   259.39080384\n",
      "    45.69847575  -165.82641406  -141.67843184]\n"
     ]
    }
   ],
   "source": [
    "w_init = np.zeros(X_train_scaled.shape[1])\n",
    "b_init = 0\n",
    "alpha = 0.01\n",
    "iterations = 10000\n",
    "\n",
    "w_final, b_final, cost_history = gradient_descent(X_train_scaled, y_train, w_init, b_init, alpha, iterations)\n",
    "y_pred_test = X_test_scaled.dot(w_final) + b_final\n",
    "print(f\"predictions===> {y_pred_test}, target value===>{y_train}\")\n",
    "\n",
    "print(f\"b,w found by gradient descent: {b_final},{w_final}\")"
   ]
  },
  {
   "cell_type": "markdown",
   "id": "a6925b7c-4b59-4762-a226-0904475b0a5d",
   "metadata": {},
   "source": [
    "We visualize our Gradient Descent"
   ]
  },
  {
   "cell_type": "code",
   "execution_count": 64,
   "id": "3f91a544-3efc-4685-8f91-9c9024473ce3",
   "metadata": {},
   "outputs": [
    {
     "data": {
      "image/png": "[encoded data removed]",
      "text/plain": [
       "<Figure size 640x480 with 1 Axes>"
      ]
     },
     "metadata": {},
     "output_type": "display_data"
    }
   ],
   "source": [
    "plt.plot(range(len(cost_history)), cost_history)\n",
    "plt.xlabel('Iterations')\n",
    "plt.ylabel('Cost')\n",
    "plt.title('Cost vs Iterations')\n",
    "plt.show()"
   ]
  },
  {
   "cell_type": "markdown",
   "id": "03941537-643b-4ecd-9c57-098a03339d9c",
   "metadata": {},
   "source": [
    "This graph shows that the cost function is decreasing well, it shows that from the 500 or likely 1000 iterations that is were it was stable <br>\n",
    "This appears to be good, as the cost stabilizes  at a low value after the initial drop"
   ]
  },
  {
   "cell_type": "markdown",
   "id": "e0922306-4b3f-468e-b421-14e3db89944a",
   "metadata": {},
   "source": [
    "# Model Evaluations"
   ]
  },
  {
   "cell_type": "markdown",
   "id": "6ec0e0e3-984f-4a0b-9ca6-ce70cde7a50e",
   "metadata": {},
   "source": [
    "Let check model Coefficient Determination and the Cost "
   ]
  },
  {
   "cell_type": "code",
   "execution_count": 40,
   "id": "dca724ac-5f3b-4b61-9d11-8392419dabdf",
   "metadata": {},
   "outputs": [],
   "source": [
    "# Compute Cost\n",
    "cost_train = compute_cost(X_train_scaled, y_train, w_final, b_final)\n",
    "cost_test = compute_cost(X_test_scaled, y_test, w_final, b_final)\n",
    "# Compute R2 Score\n",
    "r2_train = r2_score_metrics(y_train, predict(X_train_scaled, w_final, b_final))\n",
    "r2_test =r2_score_metrics(y_test, predict(X_test_scaled, w_final, b_final))"
   ]
  },
  {
   "cell_type": "code",
   "execution_count": 45,
   "id": "997aee4f-0213-4460-b006-ed005a673300",
   "metadata": {},
   "outputs": [
    {
     "name": "stdout",
     "output_type": "stream",
     "text": [
      "The Training Cost: 18865274.86\n",
      "The Testing Cost: 18865274.86\n",
      "The coefficient determination of our Training is 74.24%\n",
      "The coefficient determination of our Testing is 76.97%\n"
     ]
    }
   ],
   "source": [
    "print(\"The Training Cost:\", round(cost_train, 2))\n",
    "print( \"The Testing Cost:\", round(cost_train, 2))\n",
    "print(\"The coefficient determination of our Training is {}%\".format(round(r2_train, 4) * 100))\n",
    "print(\"The coefficient determination of our Testing is {}%\".format(round(r2_test, 4) * 100))"
   ]
  },
  {
   "cell_type": "markdown",
   "id": "e11c92d9-ffde-4c2e-b732-4d1538deb55e",
   "metadata": {},
   "source": [
    "# Conclusion \n",
    "Our Training and Testing Cost is ==> 18865274.86 <br>\n",
    "This is the Average Squared Error that this model maks on the training and testing dataset .\n",
    "This number is reasonable considering our target value is very high . <br>\n",
    "We can use the RMSE Metric Evaluation to reduce our cost . <br> <br> \n",
    "Training $R^2 Score = 74.2% $ <br>\n",
    "This means our model 74.2% explain the variance in our medical cost on the training data. <br>\n",
    "This is good shows that our model fit the data well without Overfitting . <br> <br>\n",
    "Testing $R^2 Score = 76.2% $ <br>\n",
    "This is even better than our training data .<br>\n",
    "This also means our model can predict well with unseen data . <br>\n",
    "It can predict real world data nearly 77% accurately, which is a strong starting point for this linear regression model"
   ]
  },
  {
   "cell_type": "code",
   "execution_count": 49,
   "id": "b0054503-d75e-44b3-a6b0-67934fcf2d04",
   "metadata": {},
   "outputs": [
    {
     "name": "stdout",
     "output_type": "stream",
     "text": [
      "The Average Mean Squared Error of our model is 4343.0%:\n"
     ]
    }
   ],
   "source": [
    "# We can further reduce our cost like this\n",
    "cost = 18865274.86\n",
    "rmse = np.sqrt(cost)\n",
    "print(\"The Average Mean Squared Error of our model is {:.1f}%:\".format(round(rmse)))"
   ]
  },
  {
   "cell_type": "markdown",
   "id": "31026f04-2a29-42e5-83c9-90f9b3cda033",
   "metadata": {},
   "source": [
    "This is even much better than our formal cost"
   ]
  },
  {
   "cell_type": "code",
   "execution_count": null,
   "id": "4ebb5cec-77b5-4449-9572-7ec8f0527a77",
   "metadata": {},
   "outputs": [],
   "source": []
  },
  {
   "cell_type": "markdown",
   "id": "a9672c63-4df1-4c66-aa16-0adb12e156ea",
   "metadata": {},
   "source": [
    "I know this is not in his best but this is my first project without any tutorials videos. <br>\n",
    "Just me and researching and reading 📖 and following how Cousera Taught me on my Linear Regression Class with Andrew Ng.\n",
    "If you have anyway this can be improved on you can help i would love to learn. <br>\n",
    "# THANK YOU"
   ]
  }
 ],
 "metadata": {
  "kernelspec": {
   "display_name": "Python 3 (ipykernel)",
   "language": "python",
   "name": "python3"
  },
  "language_info": {
   "codemirror_mode": {
    "name": "ipython",
    "version": 3
   },
   "file_extension": ".py",
   "mimetype": "text/x-python",
   "name": "python",
   "nbconvert_exporter": "python",
   "pygments_lexer": "ipython3",
   "version": "3.13.1"
  }
 },
 "nbformat": 4,
 "nbformat_minor": 5
}
